{
 "cells": [
  {
   "cell_type": "code",
   "execution_count": 2,
   "metadata": {},
   "outputs": [
    {
     "data": {
      "text/plain": [
       "11"
      ]
     },
     "execution_count": 2,
     "metadata": {},
     "output_type": "execute_result"
    }
   ],
   "source": [
    "from langchain_community.document_loaders import PyPDFLoader\n",
    "\n",
    "loader = PyPDFLoader(\"peepal.pdf\")\n",
    "data = loader.load()  # entire PDF is loaded as a single Document\n",
    "#data\n",
    "len(data)"
   ]
  },
  {
   "cell_type": "code",
   "execution_count": 3,
   "metadata": {},
   "outputs": [
    {
     "name": "stdout",
     "output_type": "stream",
     "text": [
      "Total number of documents:  23\n"
     ]
    }
   ],
   "source": [
    "from langchain.text_splitter import RecursiveCharacterTextSplitter\n",
    "\n",
    "# split data\n",
    "text_splitter = RecursiveCharacterTextSplitter(chunk_size=1000)\n",
    "docs = text_splitter.split_documents(data)\n",
    "\n",
    "\n",
    "print(\"Total number of documents: \",len(docs))"
   ]
  },
  {
   "cell_type": "code",
   "execution_count": 4,
   "metadata": {},
   "outputs": [
    {
     "data": {
      "text/plain": [
       "Document(metadata={'source': 'peepal.pdf', 'page': 3, 'page_label': '4'}, page_content=\"Why  do  you  not  help  humans?  We  do  help  humans!  We  provide  fair  employment  to  20  people  from  our  village.    \\nWe  choose  to  help  animals  directly  because  of  the  extreme  cruelty  we  witness  \\ntowards\\n \\nthem.\\n \\nIt\\n \\nis\\n \\nnot\\n \\npossible\\n \\nfor\\n \\nus\\n \\nto\\n \\nhelp\\n \\nall\\n \\nbeings\\n \\nin\\n \\nthe\\n \\nworld,\\n \\nso\\n \\nwe\\n \\nwork\\n \\nto\\n \\ninspire\\n \\nothers\\n \\nto\\n \\nreduce\\n \\nthe\\n \\nsuffering\\n \\nthat\\n \\nthey\\n \\nsee;\\n \\nwhether\\n \\nit\\n \\neffects\\n \\nanimals\\n \\nor\\n \\nhumans.\\n \\nWhere  are  you  located?  Village  VPO  Dhanotu,  Tehsil  Shahpur  District  Kangra,  Himachal  Pradesh  176208  \\nINDIA  Read  about  our  policies  on sterilization and euthanasia. \\nMore about  us. If  you  have  any  further  questions  please contact  us. \\nBACK  TO  MAIN  FAQ Peepal  \\nFarm  Farmstay  FAQ  \\nIs  it  at  the  farm?  It's  the  adjoining  property.  \\nHow  is  the  cellphone  signal?  The  nearest  cell  phone  tower  is  still  pretty  far,  so  the  signal  can  be  spotty.  Airtel  \\nworks\\n \\nbest.\")"
      ]
     },
     "execution_count": 4,
     "metadata": {},
     "output_type": "execute_result"
    }
   ],
   "source": [
    "docs[7]"
   ]
  },
  {
   "cell_type": "code",
   "execution_count": 5,
   "metadata": {},
   "outputs": [
    {
     "name": "stderr",
     "output_type": "stream",
     "text": [
      "c:\\Users\\pc\\Anaconda3\\envs\\env_chatbotGemini\\Lib\\site-packages\\tqdm\\auto.py:21: TqdmWarning: IProgress not found. Please update jupyter and ipywidgets. See https://ipywidgets.readthedocs.io/en/stable/user_install.html\n",
      "  from .autonotebook import tqdm as notebook_tqdm\n"
     ]
    },
    {
     "data": {
      "text/plain": [
       "[0.05168594419956207,\n",
       " -0.030764883384108543,\n",
       " -0.03062233328819275,\n",
       " -0.02802734263241291,\n",
       " 0.01813093200325966]"
      ]
     },
     "execution_count": 5,
     "metadata": {},
     "output_type": "execute_result"
    }
   ],
   "source": [
    "from langchain_chroma import Chroma\n",
    "from langchain_google_genai import GoogleGenerativeAIEmbeddings\n",
    "\n",
    "from dotenv import load_dotenv\n",
    "load_dotenv() \n",
    "\n",
    "#Get an API key: \n",
    "# Head to https://ai.google.dev/gemini-api/docs/api-key to generate a Google AI API key. Paste in .env file\n",
    "\n",
    "# Embedding models: https://python.langchain.com/v0.1/docs/integrations/text_embedding/\n",
    "\n",
    "embeddings = GoogleGenerativeAIEmbeddings(model=\"models/embedding-001\")\n",
    "vector = embeddings.embed_query(\"hello, world!\")\n",
    "vector[:5]\n",
    "#vector"
   ]
  },
  {
   "cell_type": "code",
   "execution_count": 6,
   "metadata": {},
   "outputs": [],
   "source": [
    "vectorstore = Chroma.from_documents(documents=docs, embedding=GoogleGenerativeAIEmbeddings(model=\"models/embedding-001\"))"
   ]
  },
  {
   "cell_type": "code",
   "execution_count": 7,
   "metadata": {},
   "outputs": [],
   "source": [
    "retriever = vectorstore.as_retriever(search_type=\"similarity\", search_kwargs={\"k\": 10})\n",
    "\n",
    "retrieved_docs = retriever.invoke(\"What is peepal farm.?\")"
   ]
  },
  {
   "cell_type": "code",
   "execution_count": 8,
   "metadata": {},
   "outputs": [
    {
     "data": {
      "text/plain": [
       "10"
      ]
     },
     "execution_count": 8,
     "metadata": {},
     "output_type": "execute_result"
    }
   ],
   "source": [
    "len(retrieved_docs)"
   ]
  },
  {
   "cell_type": "code",
   "execution_count": 9,
   "metadata": {},
   "outputs": [
    {
     "name": "stdout",
     "output_type": "stream",
     "text": [
      "Connect  Remotely  \n",
      "●\n",
      "  \n",
      " \n",
      "Join  our  community \n",
      "Community  \n",
      "●\n",
      "  \n",
      " \n",
      "Humans  Helping  Animals  WhatsApp  group:  Connect  with  other  \n",
      "animal  lovers  in  your  area,  and  help  make  that  community  bigger,  and  \n",
      "bring\n",
      " \n",
      "it\n",
      " \n",
      "closer.\n",
      " \n",
      "●\n",
      "  \n",
      " \n",
      "Stay  tuned  to  help:  Join  our  Telegram  group,  as  that's  where  we  \n",
      "post  updates  on  cases,  what  we  need  help  with,  and  awareness  \n",
      "messages\n",
      " \n",
      "that\n",
      " \n",
      "you\n",
      " \n",
      "can\n",
      " \n",
      "help\n",
      " \n",
      "spread!\n",
      " \n",
      "●\n",
      "  \n",
      " \n",
      "Join  like  minded  people:  Stay  connected  with  us  and  others  who  \n",
      "also  care  on  our  Facebook  group!  We  ask  you  to  share  your  stories  of  \n",
      "helping\n",
      " \n",
      "others\n",
      " \n",
      "over\n",
      " \n",
      "there.\n",
      " \n",
      "●\n",
      "  \n",
      " \n",
      "Peepal  Farm  Community  Hangout:  A  Telegram  space  for  all  of  us  Humans  Helping  Animals  to  connect  and  share.    \n",
      "I  want  to  start  something  like  Peepal  Farm,  where  do  I  begin?  Peepal  Farm  is  a  large  project,  involving  many  people,  over  several  years!  The  \n",
      "best\n",
      " \n",
      "place\n",
      " \n",
      "to\n",
      " \n",
      "start\n",
      " \n",
      "is\n",
      " \n",
      "where\n",
      " \n",
      "we\n",
      " \n",
      "did\n",
      " \n",
      "-\n"
     ]
    }
   ],
   "source": [
    "print(retrieved_docs[5].page_content)"
   ]
  },
  {
   "cell_type": "code",
   "execution_count": 10,
   "metadata": {},
   "outputs": [],
   "source": [
    "from langchain_google_genai import ChatGoogleGenerativeAI\n",
    "\n",
    "llm = ChatGoogleGenerativeAI(model=\"gemini-1.5-pro\",temperature=0.3, max_tokens=500)"
   ]
  },
  {
   "cell_type": "code",
   "execution_count": 11,
   "metadata": {},
   "outputs": [],
   "source": [
    "from langchain.chains import create_retrieval_chain\n",
    "from langchain.chains.combine_documents import create_stuff_documents_chain\n",
    "from langchain_core.prompts import ChatPromptTemplate\n",
    "\n",
    "system_prompt = (\n",
    "    \"You are an assistant for question-answering tasks. \"\n",
    "    \"Use the following pieces of retrieved context to answer \"\n",
    "    \"the question. If you don't know the answer, say that you \"\n",
    "    \"don't know. Use five sentences maximum and keep the \"\n",
    "    \"answer concise.\"\n",
    "    \"\\n\\n\"\n",
    "    \"{context}\"\n",
    ")\n",
    "\n",
    "prompt = ChatPromptTemplate.from_messages(\n",
    "    [\n",
    "        (\"system\", system_prompt),\n",
    "        (\"human\", \"{input}\"),\n",
    "    ]\n",
    ")"
   ]
  },
  {
   "cell_type": "code",
   "execution_count": 12,
   "metadata": {},
   "outputs": [],
   "source": [
    "question_answer_chain = create_stuff_documents_chain(llm, prompt)\n",
    "rag_chain = create_retrieval_chain(retriever, question_answer_chain)"
   ]
  },
  {
   "cell_type": "code",
   "execution_count": 13,
   "metadata": {},
   "outputs": [
    {
     "name": "stdout",
     "output_type": "stream",
     "text": [
      "Peepal Farm is located in Village Dhanotu, near Dharamsala, in the Kangra district of Himachal Pradesh, India.  From the Dharamsala bus stand, drive downhill towards Gharoh, continuing past Gharoh and Chari to the Dhanotu bus stop.  From the bus stop, take the first left, follow the road, and look for a gate with Hanuman Ji painted on it.  Alternatively, you can contact Peepal Farm directly for assistance.\n"
     ]
    }
   ],
   "source": [
    "response = rag_chain.invoke({\"input\": \"how to reach peepal farm\"})\n",
    "print(response[\"answer\"])"
   ]
  },
  {
   "cell_type": "code",
   "execution_count": 14,
   "metadata": {},
   "outputs": [
    {
     "name": "stdout",
     "output_type": "stream",
     "text": [
      "Robin Singh is one of the founders of Peepal Farm, along with Jo and Shivani.  Peepal Farm is an animal rescue and welfare organization located in Village Dhanotu, near Dharamsala, in the Kangra district of Himachal Pradesh, India.  More information about Robin Singh's background or role within Peepal Farm is not available within the provided context.  A video featuring Robin discussing the basics of Peepal Farm is mentioned, but no further details are given.\n"
     ]
    }
   ],
   "source": [
    "response = rag_chain.invoke({\"input\": \"who is robin singh.?\"})\n",
    "print(response[\"answer\"])"
   ]
  }
 ],
 "metadata": {
  "kernelspec": {
   "display_name": "env_chatbotGemini",
   "language": "python",
   "name": "python3"
  },
  "language_info": {
   "codemirror_mode": {
    "name": "ipython",
    "version": 3
   },
   "file_extension": ".py",
   "mimetype": "text/x-python",
   "name": "python",
   "nbconvert_exporter": "python",
   "pygments_lexer": "ipython3",
   "version": "3.12.3"
  }
 },
 "nbformat": 4,
 "nbformat_minor": 2
}
